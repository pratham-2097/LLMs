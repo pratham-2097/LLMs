{
 "cells": [
  {
   "cell_type": "code",
   "execution_count": 1,
   "id": "f98e650e-9d5b-49e1-b142-dd7ee688c9ff",
   "metadata": {},
   "outputs": [],
   "source": [
    "import os\n",
    "import requests\n",
    "import json\n",
    "from typing import List\n",
    "from dotenv import load_dotenv\n",
    "from bs4 import BeautifulSoup\n",
    "from IPython.display import Markdown, display, update_display\n",
    "from openai import OpenAI"
   ]
  },
  {
   "cell_type": "code",
   "execution_count": 47,
   "id": "a6d00e19-e85b-4405-9349-2ccf9ad93fb3",
   "metadata": {},
   "outputs": [
    {
     "name": "stdout",
     "output_type": "stream",
     "text": [
      "API key looks good so far\n"
     ]
    }
   ],
   "source": [
    "load_dotenv(override = True)\n",
    "api_key = os.getenv(\"OPENAI_API_KEY\")\n",
    "\n",
    "if api_key and api_key.startswith('sk-proj-') and len(api_key)>10:\n",
    "    print(\"API key looks good so far\")\n",
    "else:\n",
    "    print(\"There might be a problem with your API key? Please visit the troubleshooting notebook!\")\n",
    "\n",
    "MODEL = 'gpt-4o-mini'\n",
    "openai = OpenAI()\n"
   ]
  },
  {
   "cell_type": "code",
   "execution_count": 48,
   "id": "b40bdbc9-e321-4acf-a516-dea57b8c8313",
   "metadata": {},
   "outputs": [],
   "source": [
    "# A class to represent a Webpage\n",
    "\n",
    "# Some websites need you to use proper headers when fetching them:\n",
    "headers = {\n",
    " \"User-Agent\": \"Mozilla/5.0 (Windows NT 10.0; Win64; x64) AppleWebKit/537.36 (KHTML, like Gecko) Chrome/117.0.0.0 Safari/537.36\"\n",
    "}\n",
    "\n",
    "class Website:\n",
    "    \"\"\"\n",
    "    A utility class to represent a Website that we have scraped, now with links\n",
    "    \"\"\"\n",
    "\n",
    "    def __init__(self, url):\n",
    "        self.url = url\n",
    "        response = requests.get(url, headers=headers)\n",
    "        self.body = response.content\n",
    "        soup = BeautifulSoup(self.body, 'html.parser')\n",
    "        self.title = soup.title.string if soup.title else \"No title found\"\n",
    "        if soup.body:\n",
    "            for irrelevant in soup.body([\"script\", \"style\", \"img\", \"input\"]):\n",
    "                irrelevant.decompose()\n",
    "            self.text = soup.body.get_text(separator=\"\\n\", strip=True)\n",
    "        else:\n",
    "            self.text = \"\"\n",
    "        links = [link.get('href') for link in soup.find_all('a')]\n",
    "        self.links = [link.get('href') for link in soup.find_all('a') if link.get(\"href\") ]\n",
    "\n",
    "    def get_contents(self):\n",
    "        return f\"Webpage Title:\\n{self.title}\\nWebpage Contents:\\n{self.text}\\n\\n\""
   ]
  },
  {
   "cell_type": "code",
   "execution_count": 49,
   "id": "91e39f35-04d1-4d65-8a68-50b0f602e0a4",
   "metadata": {},
   "outputs": [
    {
     "data": {
      "text/plain": [
       "['https://edwarddonner.com/',\n",
       " 'https://edwarddonner.com/connect-four/',\n",
       " 'https://edwarddonner.com/outsmart/',\n",
       " 'https://edwarddonner.com/about-me-and-about-nebula/',\n",
       " 'https://edwarddonner.com/posts/',\n",
       " 'https://edwarddonner.com/',\n",
       " 'https://news.ycombinator.com',\n",
       " 'https://nebula.io/?utm_source=ed&utm_medium=referral',\n",
       " 'https://www.prnewswire.com/news-releases/wynden-stark-group-acquires-nyc-venture-backed-tech-startup-untapt-301269512.html',\n",
       " 'https://patents.google.com/patent/US20210049536A1/',\n",
       " 'https://www.linkedin.com/in/eddonner/',\n",
       " 'https://edwarddonner.com/2025/01/23/llm-workshop-hands-on-with-agents-resources/',\n",
       " 'https://edwarddonner.com/2025/01/23/llm-workshop-hands-on-with-agents-resources/',\n",
       " 'https://edwarddonner.com/2024/12/21/llm-resources-superdatascience/',\n",
       " 'https://edwarddonner.com/2024/12/21/llm-resources-superdatascience/',\n",
       " 'https://edwarddonner.com/2024/11/13/llm-engineering-resources/',\n",
       " 'https://edwarddonner.com/2024/11/13/llm-engineering-resources/',\n",
       " 'https://edwarddonner.com/2024/10/16/from-software-engineer-to-ai-data-scientist-resources/',\n",
       " 'https://edwarddonner.com/2024/10/16/from-software-engineer-to-ai-data-scientist-resources/',\n",
       " 'https://edwarddonner.com/',\n",
       " 'https://edwarddonner.com/connect-four/',\n",
       " 'https://edwarddonner.com/outsmart/',\n",
       " 'https://edwarddonner.com/about-me-and-about-nebula/',\n",
       " 'https://edwarddonner.com/posts/',\n",
       " 'mailto:hello@mygroovydomain.com',\n",
       " 'https://www.linkedin.com/in/eddonner/',\n",
       " 'https://twitter.com/edwarddonner',\n",
       " 'https://www.facebook.com/edward.donner.52']"
      ]
     },
     "execution_count": 49,
     "metadata": {},
     "output_type": "execute_result"
    }
   ],
   "source": [
    "ed = Website(\"https://edwarddonner.com\")\n",
    "ed.links\n"
   ]
  },
  {
   "cell_type": "code",
   "execution_count": 50,
   "id": "03b26960-5759-45a3-8d2f-2b880023fc71",
   "metadata": {},
   "outputs": [],
   "source": [
    "link_system_prompt = \"You are provided with a list of links found on a webpage. \\\n",
    "You are able to decide which of the links would be most relevant to include in a brochure about the company, \\\n",
    "such as links to an About page, or a Company page, or Careers/Jobs pages.\\n\"\n",
    "link_system_prompt += \"You should respond in JSON as in this example:\"\n",
    "link_system_prompt += \"\"\"\n",
    "{\n",
    "    \"links\": [\n",
    "        {\"type\": \"about page\", \"url\": \"https://full.url/goes/here/about\"},\n",
    "        {\"type\": \"careers page\": \"url\": \"https://another.full.url/careers\"}\n",
    "    ]\n",
    "}\n",
    "\"\"\""
   ]
  },
  {
   "cell_type": "code",
   "execution_count": 51,
   "id": "644112f0-b1ad-4833-9452-6081bcc4a1e8",
   "metadata": {},
   "outputs": [
    {
     "name": "stdout",
     "output_type": "stream",
     "text": [
      "You are provided with a list of links found on a webpage. You are able to decide which of the links would be most relevant to include in a brochure about the company, such as links to an About page, or a Company page, or Careers/Jobs pages.\n",
      "You should respond in JSON as in this example:\n",
      "{\n",
      "    \"links\": [\n",
      "        {\"type\": \"about page\", \"url\": \"https://full.url/goes/here/about\"},\n",
      "        {\"type\": \"careers page\": \"url\": \"https://another.full.url/careers\"}\n",
      "    ]\n",
      "}\n",
      "\n"
     ]
    }
   ],
   "source": [
    "print (link_system_prompt)\n"
   ]
  },
  {
   "cell_type": "code",
   "execution_count": 52,
   "id": "af41912e-f9db-4bb1-85c6-3b40fcfcaff8",
   "metadata": {},
   "outputs": [],
   "source": [
    "def get_links_user_prompt(website):\n",
    "    user_prompt = f\"Here is the list of links on the website of {website.url} - \"\n",
    "    user_prompt += \"please decide which of these are relevant web links for a brochure about the company, respond with the full https URL in JSON format. \\\n",
    "Do not include Terms of Service, Privacy, email links.\\n\"\n",
    "    user_prompt += \"Links (some might be relative links):\\n\"\n",
    "    user_prompt += \"\\n\".join(website.links)\n",
    "    return user_prompt\n",
    "    "
   ]
  },
  {
   "cell_type": "code",
   "execution_count": 53,
   "id": "af71f6aa-21a9-402d-b6a9-db502c8d6c3f",
   "metadata": {},
   "outputs": [
    {
     "name": "stdout",
     "output_type": "stream",
     "text": [
      "<function get_links_user_prompt at 0x0000020698526DE0>\n"
     ]
    }
   ],
   "source": [
    "print(get_links_user_prompt)\n",
    "\n",
    "\n",
    "\n"
   ]
  },
  {
   "cell_type": "code",
   "execution_count": 57,
   "id": "fc5dcfb1-6fec-42d1-875c-11a1b8903657",
   "metadata": {},
   "outputs": [],
   "source": [
    "def get_links(url):\n",
    "    website = Website(url)\n",
    "    response = openai.chat.completions.create(\n",
    "        model=MODEL,\n",
    "        messages=[\n",
    "            {\"role\": \"system\", \"content\": link_system_prompt},\n",
    "            {\"role\": \"user\", \"content\": get_links_user_prompt(website)}\n",
    "      ],\n",
    "        response_format={\"type\": \"json_object\"}\n",
    "    )\n",
    "    result = response.choices[0].message.content\n",
    "    return json.loads(result)"
   ]
  },
  {
   "cell_type": "code",
   "execution_count": 58,
   "id": "4393ace3-f35c-48fa-a90d-7d25fe4f7ea0",
   "metadata": {},
   "outputs": [
    {
     "data": {
      "text/plain": [
       "['/',\n",
       " '/models',\n",
       " '/datasets',\n",
       " '/spaces',\n",
       " '/posts',\n",
       " '/docs',\n",
       " '/enterprise',\n",
       " '/pricing',\n",
       " '/login',\n",
       " '/join',\n",
       " '/spaces',\n",
       " '/models',\n",
       " '/Qwen/QwQ-32B',\n",
       " '/deepseek-ai/DeepSeek-R1',\n",
       " '/microsoft/Phi-4-multimodal-instruct',\n",
       " '/Wan-AI/Wan2.1-T2V-14B',\n",
       " '/CohereForAI/aya-vision-8b',\n",
       " '/models',\n",
       " '/spaces/Wan-AI/Wan2.1',\n",
       " '/spaces/nanotron/ultrascale-playbook',\n",
       " '/spaces/ASLP-lab/DiffRhythm',\n",
       " '/spaces/Qwen/QwQ-32B-Demo',\n",
       " '/spaces/black-forest-labs/FLUX.1-dev',\n",
       " '/spaces',\n",
       " '/datasets/facebook/natural_reasoning',\n",
       " '/datasets/Congliu/Chinese-DeepSeek-R1-Distill-data-110k',\n",
       " '/datasets/FreedomIntelligence/medical-o1-reasoning-SFT',\n",
       " '/datasets/GeneralReasoning/GeneralThought-195K',\n",
       " '/datasets/KodCode/KodCode-V1',\n",
       " '/datasets',\n",
       " '/join',\n",
       " '/pricing#endpoints',\n",
       " '/pricing#spaces',\n",
       " '/pricing',\n",
       " '/enterprise',\n",
       " '/enterprise',\n",
       " '/enterprise',\n",
       " '/enterprise',\n",
       " '/enterprise',\n",
       " '/enterprise',\n",
       " '/enterprise',\n",
       " '/allenai',\n",
       " '/facebook',\n",
       " '/amazon',\n",
       " '/google',\n",
       " '/Intel',\n",
       " '/microsoft',\n",
       " '/grammarly',\n",
       " '/Writer',\n",
       " '/docs/transformers',\n",
       " '/docs/diffusers',\n",
       " '/docs/safetensors',\n",
       " '/docs/huggingface_hub',\n",
       " '/docs/tokenizers',\n",
       " '/docs/trl',\n",
       " '/docs/transformers.js',\n",
       " '/docs/smolagents',\n",
       " '/docs/peft',\n",
       " '/docs/datasets',\n",
       " '/docs/text-generation-inference',\n",
       " '/docs/accelerate',\n",
       " '/models',\n",
       " '/datasets',\n",
       " '/spaces',\n",
       " '/tasks',\n",
       " 'https://ui.endpoints.huggingface.co',\n",
       " '/chat',\n",
       " '/huggingface',\n",
       " '/brand',\n",
       " '/terms-of-service',\n",
       " '/privacy',\n",
       " 'https://apply.workable.com/huggingface/',\n",
       " 'mailto:press@huggingface.co',\n",
       " '/learn',\n",
       " '/docs',\n",
       " '/blog',\n",
       " 'https://discuss.huggingface.co',\n",
       " 'https://status.huggingface.co/',\n",
       " 'https://github.com/huggingface',\n",
       " 'https://twitter.com/huggingface',\n",
       " 'https://www.linkedin.com/company/huggingface/',\n",
       " '/join/discord']"
      ]
     },
     "execution_count": 58,
     "metadata": {},
     "output_type": "execute_result"
    }
   ],
   "source": [
    "huggingface = Website(\"https://huggingface.co\")\n",
    "huggingface.links"
   ]
  },
  {
   "cell_type": "code",
   "execution_count": 59,
   "id": "4171ec03-ca55-4776-805d-af83b47e4916",
   "metadata": {},
   "outputs": [
    {
     "data": {
      "text/plain": [
       "{'links': [{'type': 'about page', 'url': 'https://huggingface.co/huggingface'},\n",
       "  {'type': 'careers page', 'url': 'https://apply.workable.com/huggingface/'},\n",
       "  {'type': 'blog page', 'url': 'https://huggingface.co/blog'},\n",
       "  {'type': 'company page',\n",
       "   'url': 'https://www.linkedin.com/company/huggingface/'},\n",
       "  {'type': 'community page', 'url': 'https://discuss.huggingface.co'}]}"
      ]
     },
     "execution_count": 59,
     "metadata": {},
     "output_type": "execute_result"
    }
   ],
   "source": [
    "get_links(\"https://huggingface.co\")\n",
    "\n"
   ]
  },
  {
   "cell_type": "code",
   "execution_count": null,
   "id": "1866467c-9c10-405a-9d4d-0842b2f0197d",
   "metadata": {},
   "outputs": [],
   "source": []
  },
  {
   "cell_type": "markdown",
   "id": "e132fabf-ad03-41b8-b645-aaef601d4739",
   "metadata": {},
   "source": [
    "SECOND STEP "
   ]
  },
  {
   "cell_type": "code",
   "execution_count": 60,
   "id": "3dbe88e4-780e-46b9-ba3a-37d78ecbaf7c",
   "metadata": {},
   "outputs": [],
   "source": [
    "def get_all_details(url):\n",
    "    result = \"Landing page:\\n\"\n",
    "    result += Website(url).get_contents()\n",
    "    links = get_links(url)\n",
    "    print(\"Found links:\", links)\n",
    "    for link in links[\"links\"]:\n",
    "        result += f\"\\n\\n{link['type']}\\n\"\n",
    "        result += Website(link[\"url\"]).get_contents()\n",
    "    return result"
   ]
  },
  {
   "cell_type": "code",
   "execution_count": 64,
   "id": "e77f3846-4fdc-4633-87fb-6c63aa8b0e44",
   "metadata": {},
   "outputs": [
    {
     "ename": "SyntaxError",
     "evalue": "invalid syntax (741817616.py, line 1)",
     "output_type": "error",
     "traceback": [
      "\u001b[1;36m  Cell \u001b[1;32mIn[64], line 1\u001b[1;36m\u001b[0m\n\u001b[1;33m    print(get_all_details(\"https://huggingface.co\"))kshvCL\u001b[0m\n\u001b[1;37m                                                    ^\u001b[0m\n\u001b[1;31mSyntaxError\u001b[0m\u001b[1;31m:\u001b[0m invalid syntax\n"
     ]
    }
   ],
   "source": [
    "print(get_all_details(\"https://huggingface.co\"))kshvCL\n"
   ]
  },
  {
   "cell_type": "code",
   "execution_count": 63,
   "id": "804e27f6-aa76-4f26-abf5-364202ec581f",
   "metadata": {},
   "outputs": [],
   "source": [
    "system_prompt = \"You are an assistant that analyzes the contents of several relevant pages from a company website \\\n",
    "and creates a short brochure about the company for prospective customers, investors and recruits. Respond in markdown.\\\n",
    "Include details of company culture, customers and careers/jobs if you have the information.\""
   ]
  },
  {
   "cell_type": "code",
   "execution_count": 65,
   "id": "d6a415d0-0999-4561-8e9e-c2ef82429a7a",
   "metadata": {},
   "outputs": [],
   "source": [
    "def get_brochure_user_prompt(company_name, url):\n",
    "    user_prompt = f\"You are looking at a company called: {company_name}\\n\"\n",
    "    user_prompt += f\"Here are the contents of its landing page and other relevant pages; use this information to build a short brochure of the company in markdown.\\n\"\n",
    "    user_prompt += get_all_details(url)\n",
    "    user_prompt = user_prompt[:5_000] # Truncate if more than 5,000 characters\n",
    "    return user_prompt\n",
    "    "
   ]
  },
  {
   "cell_type": "code",
   "execution_count": 66,
   "id": "257598cf-ad65-4411-b15e-76a573720d4b",
   "metadata": {},
   "outputs": [],
   "source": [
    "def create_brochure(company_name, url):\n",
    "    response = openai.chat.completions.create(\n",
    "        model=MODEL,\n",
    "        messages=[\n",
    "            {\"role\": \"system\", \"content\": system_prompt},\n",
    "            {\"role\": \"user\", \"content\": get_brochure_user_prompt(company_name, url)}\n",
    "          ],\n",
    "    )\n",
    "    result = response.choices[0].message.content\n",
    "    display(Markdown(result))"
   ]
  },
  {
   "cell_type": "code",
   "execution_count": 67,
   "id": "bc55079c-7a1a-4686-92c4-7249c060d367",
   "metadata": {},
   "outputs": [
    {
     "name": "stdout",
     "output_type": "stream",
     "text": [
      "Found links: {'links': [{'type': 'about page', 'url': 'https://huggingface.co/huggingface'}, {'type': 'careers page', 'url': 'https://apply.workable.com/huggingface/'}, {'type': 'enterprise page', 'url': 'https://huggingface.co/enterprise'}, {'type': 'pricing page', 'url': 'https://huggingface.co/pricing'}, {'type': 'blog page', 'url': 'https://huggingface.co/blog'}, {'type': 'community page', 'url': 'https://discuss.huggingface.co'}, {'type': 'github page', 'url': 'https://github.com/huggingface'}, {'type': 'twitter page', 'url': 'https://twitter.com/huggingface'}, {'type': 'linkedin page', 'url': 'https://www.linkedin.com/company/huggingface/'}]}\n"
     ]
    },
    {
     "data": {
      "text/markdown": [
       "# Hugging Face Brochure\n",
       "\n",
       "Welcome to Hugging Face, the AI community building the future. We are dedicated to creating a collaborative platform where machine learning enthusiasts, researchers, and organizations come together to innovate and advance the field of artificial intelligence.\n",
       "\n",
       "---\n",
       "\n",
       "## Our Mission\n",
       "\n",
       "At Hugging Face, we strive to democratize AI technology, making it accessible for everyone. We believe in the power of community collaboration, fostering an environment where developers can share models, datasets, and applications.\n",
       "\n",
       "---\n",
       "\n",
       "## Community & Collaboration\n",
       "\n",
       "- **1M+ Models**: Browse through a vast array of machine learning models across different domains including text, image, video, and audio.\n",
       "- **250k+ Datasets**: Access and contribute to an extensive collection of datasets tailored for various machine learning tasks.\n",
       "- **Spaces**: Collaborate with developers globally on innovative applications and projects utilizing state-of-the-art technology.\n",
       "\n",
       "### Trending Models This Week:\n",
       "- Qwen/QwQ-32B\n",
       "- deepseek-ai/DeepSeek-R1\n",
       "- microsoft/Phi-4-multimodal-instruct\n",
       "- Wan-AI/Wan2.1-T2V-14B\n",
       "- CohereForAI/aya-vision-8b\n",
       "\n",
       "---\n",
       "\n",
       "## Customers & Partnerships\n",
       "\n",
       "More than **50,000 organizations** trust and use Hugging Face, including notable companies such as:\n",
       "- Google\n",
       "- Microsoft\n",
       "- Amazon\n",
       "- Grammarly\n",
       "- Meta\n",
       "\n",
       "---\n",
       "\n",
       "## Careers at Hugging Face\n",
       "\n",
       "Join us in shaping the future of AI! We are always on the lookout for passionate individuals who are eager to learn and grow within the field of machine learning and artificial intelligence. Embrace an environment that thrives on openness, innovation, and collaboration. \n",
       "\n",
       "**Current Opportunities:**\n",
       "- Data Scientists\n",
       "- Machine Learning Engineers\n",
       "- Product Managers\n",
       "- Community Managers\n",
       "\n",
       "Explore our job openings and apply to be part of a vibrant and diverse team!\n",
       "\n",
       "---\n",
       "\n",
       "## Why Choose Hugging Face?\n",
       "\n",
       "- **Open Source Commitment**: We are committed to building the foundation of ML tooling with the community. Our open-source projects include Transformers, Diffusers, and Safetensors.\n",
       "- **Enterprise Solutions**: We offer paid compute and enterprise solutions to efficiently scale your AI projects with top-notch security and support.\n",
       "- **Cutting-edge Tools**: Utilize our state-of-the-art tools and resources aimed at accelerating your machine learning projects.\n",
       "\n",
       "---\n",
       "\n",
       "Join us at Hugging Face and be a part of the revolution in artificial intelligence. Together, let's build a smarter future!\n",
       "\n",
       "For more information, visit our website: [Hugging Face](https://huggingface.co) \n",
       "\n",
       "Connect with us:\n",
       "- **GitHub**\n",
       "- **Twitter**\n",
       "- **LinkedIn**\n",
       "- **Discord**\n",
       "\n",
       "---"
      ],
      "text/plain": [
       "<IPython.core.display.Markdown object>"
      ]
     },
     "metadata": {},
     "output_type": "display_data"
    }
   ],
   "source": [
    "create_brochure(\"HuggingFace\", \"https://huggingface.co\")\n"
   ]
  },
  {
   "cell_type": "code",
   "execution_count": null,
   "id": "09c4fc17-f89b-41bc-87de-cb370d46ebe7",
   "metadata": {},
   "outputs": [],
   "source": [
    "def stream_brochure(company_name, url):\n",
    "    stream = openai.chat.completions.create(\n",
    "        model=MODEL,\n",
    "        messages=[\n",
    "            {\"role\": \"system\", \"content\": system_prompt},\n",
    "            {\"role\": \"user\", \"content\": get_brochure_user_prompt(company_name, url)}\n",
    "          ],\n",
    "        stream=True\n",
    "    )\n",
    "    \n",
    "    response = \"\"\n",
    "    display_handle = display(Markdown(\"\"), display_id=True)\n",
    "    for chunk in stream:\n",
    "        response += chunk.choices[0].delta.content or ''\n",
    "        response = response.replace(\"```\",\"\").replace(\"markdown\", \"\")\n",
    "        update_display(Markdown(response), display_id=display_handle.display_id)\n"
   ]
  },
  {
   "cell_type": "code",
   "execution_count": 70,
   "id": "2fb2c354-b5ae-4da1-8988-56c5416626c9",
   "metadata": {},
   "outputs": [
    {
     "name": "stdout",
     "output_type": "stream",
     "text": [
      "Found links: {'links': [{'type': 'about page', 'url': 'https://huggingface.co/huggingface'}, {'type': 'careers page', 'url': 'https://apply.workable.com/huggingface/'}, {'type': 'blog page', 'url': 'https://huggingface.co/blog'}, {'type': 'company page', 'url': 'https://www.linkedin.com/company/huggingface/'}]}\n"
     ]
    },
    {
     "data": {
      "text/markdown": [
       "# Hugging Face Brochure\n",
       "\n",
       "## **About Us**\n",
       "Hugging Face is an innovative platform dedicated to powering the AI community and building the future of machine learning (ML). We offer a collaborative atmosphere where users can create, discover, and collaborate on a diverse array of models, datasets, and applications. With over 1 million models and 250,000 datasets available, we support a wide range of ML tasks across text, image, video, audio, and even 3D modalities.\n",
       "\n",
       "## **Our Vision**\n",
       "The mission of Hugging Face is to democratize machine learning by providing accessible tools and resources for everyone, from startups to large enterprises. We are committed to fostering an inclusive AI community that encourages collaboration and innovation.\n",
       "\n",
       "## **Company Culture**\n",
       "At Hugging Face, we embrace diversity, openness, and collaboration. Our culture is centered around the idea of community-driven development, and we believe that the best advancements in AI come from shared knowledge and collective effort. We prioritize creating a supportive environment for our employees, encouraging creativity, learning, and growth.\n",
       "\n",
       "### **Core Values:**\n",
       "- **Collaboration:** We thrive on collective innovation and share knowledge within our community.\n",
       "- **Open Source:** Our tools and models are built with the idea that everyone should have access to the resources needed to advance AI.\n",
       "- **Inclusivity:** We welcome individuals from all backgrounds and expertise levels.\n",
       "\n",
       "## **Our Customers**\n",
       "More than 50,000 organizations, including major players like Amazon, Google, Microsoft, and Meta, utilize Hugging Face’s offerings. From non-profits to tech giants, our platform supports a variety of users looking to leverage AI for their specific needs.\n",
       "\n",
       "## **Careers at Hugging Face**\n",
       "Hugging Face is continually on the lookout for passionate individuals who share our mission to democratize AI. We offer a range of career opportunities in various domains, including engineering, research, product management, and community engagement. \n",
       "\n",
       "### **Why Join Us?**\n",
       "- **Impactful Work:** Be part of a team that is shaping the future of AI.\n",
       "- **Flexible Environment:** We encourage a healthy work-life balance, allowing employees to perform at their best.\n",
       "- **Community Engagement:** Collaborate with experts and enthusiasts alike in a vibrant and diverse community.\n",
       "\n",
       "## **Get Involved**\n",
       "Join the Hugging Face community today to explore models, collaborate on projects, and share your work. Whether you are looking to further your career in AI, find innovative solutions for your organization, or simply curious about machine learning, Hugging Face has something to offer for everyone.\n",
       "\n",
       "---\n",
       "\n",
       "For more information:\n",
       "- **Website:** [Hugging Face](https://huggingface.co)\n",
       "- **Follow Us:** [Twitter](https://twitter.com/huggingface), [LinkedIn](https://linkedin.com/company/huggingface), [Discord](https://discord.gg/huggingface)\n",
       "\n",
       "Together, let’s build the future of AI!"
      ],
      "text/plain": [
       "<IPython.core.display.Markdown object>"
      ]
     },
     "metadata": {},
     "output_type": "display_data"
    }
   ],
   "source": [
    "stream_brochure(\"HuggingFace\", \"https://huggingface.co\")"
   ]
  },
  {
   "cell_type": "code",
   "execution_count": null,
   "id": "852108ec-2000-4fff-9430-471553152ba4",
   "metadata": {},
   "outputs": [],
   "source": []
  }
 ],
 "metadata": {
  "kernelspec": {
   "display_name": "Python 3 (ipykernel)",
   "language": "python",
   "name": "python3"
  },
  "language_info": {
   "codemirror_mode": {
    "name": "ipython",
    "version": 3
   },
   "file_extension": ".py",
   "mimetype": "text/x-python",
   "name": "python",
   "nbconvert_exporter": "python",
   "pygments_lexer": "ipython3",
   "version": "3.11.11"
  }
 },
 "nbformat": 4,
 "nbformat_minor": 5
}
